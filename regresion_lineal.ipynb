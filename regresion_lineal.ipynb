{
  "cells": [
    {
      "cell_type": "markdown",
      "metadata": {
        "id": "view-in-github",
        "colab_type": "text"
      },
      "source": [
        "<a href=\"https://colab.research.google.com/github/orianatayakee-ship-it/Regresion_Lineal/blob/main/regresion_lineal.ipynb\" target=\"_parent\"><img src=\"https://colab.research.google.com/assets/colab-badge.svg\" alt=\"Open In Colab\"/></a>"
      ]
    },
    {
      "cell_type": "markdown",
      "metadata": {
        "id": "Ii_7DdtJH8e2"
      },
      "source": [
        "# Taller 3: Regresión Lineal y Conceptos Fundamentales\n",
        "\n",
        "\n"
      ],
      "id": "Ii_7DdtJH8e2"
    },
    {
      "cell_type": "markdown",
      "metadata": {
        "id": "1KuTZ6PkH8e5"
      },
      "source": [
        "## Instrucciones Generales\n",
        "\n",
        "**Fecha de entrega:** 20 de septiembre.\n",
        "**Tiempo disponible:** Tienen dos clases y el fin de semana para completar el taller.\n",
        "\n",
        "1.  **Trabajo en Grupo:** Este taller se debe realizar en los grupos previamente definidos.\n",
        "2.  **Repositorio en GitHub:** Cada grupo debe crear un repositorio en GitHub.\n",
        "    * Una sola persona del grupo es responsable de crearlo.\n",
        "    * El repositorio debe llamarse **`Regresion_Lineal`**.\n",
        "    * Este archivo debe ser subido al repositorio con el nombre **`Regresion_Lineal.ipynb`**.\n",
        "    * **Alternativa:** Si tienen complicaciones con GitHub, pueden enviar el enlace del cuaderno de Google Colab al aula virtual.\n",
        "3.  **Actividad a Mano (20% de la nota):**\n",
        "    * La asistencia a clase es **obligatoria**.\n",
        "    * Se realizará una actividad práctica de regresión lineal a mano.\n",
        "    * Cada integrante del grupo deberá firmar la hoja de la actividad, la cual constituye el 20% de la nota de este taller."
      ],
      "id": "1KuTZ6PkH8e5"
    },
    {
      "cell_type": "markdown",
      "metadata": {
        "id": "mgaEeFAbH8e7"
      },
      "source": [
        "---"
      ],
      "id": "mgaEeFAbH8e7"
    },
    {
      "cell_type": "markdown",
      "metadata": {
        "id": "et22XL5bH8e7"
      },
      "source": [
        "## **Parte 1: Definición del Problema**\n",
        "\n",
        "Piensa en tu experiencia académica o laboral en un área de operaciones y elige **un problema** relacionado con inventarios, calidad, mantenimiento o productividad.\n",
        "\n",
        "1.  Indica cuál es tu variable dependiente **$Y$** (aquello que quieres predecir o clasificar).\n",
        "2.  Lista entre 3 y 5 variables independientes **$X$** que medirías para predecir $Y$.\n",
        "3.  Especifica si tu problema es de **regresión** (predecir un valor numérico) o de **clasificación**."
      ],
      "id": "et22XL5bH8e7"
    },
    {
      "cell_type": "markdown",
      "metadata": {
        "id": "pxSLPR4AH8e8"
      },
      "source": [
        "**Respuesta (escribe aquí):** En Merqueo uno de los problemas mas criticos que se presentaba era evitar que los productos no estuvieran disponibles al cliente.\n",
        "\n",
        "\n",
        "**Respuesta 1:** Nivel de inventario disponible de un producto en unidades (prediccion de inventario para evitar quedarse sin producto)\n",
        "\n",
        "\n",
        "**Respuesta 2:**\n",
        "1.  Promedio historico de demanda :ventas pasadas por dias o semanas\n",
        "2.  Frecuencia de entrega del proveedor\n",
        "3.  Tiempo de entrega del proveedor (lead time): dias de entrega desde pedido hasta llegada.\n",
        "4.  Promociones\n",
        "\n",
        "**Respuesta 3:** El problema es de regresion ya que que se quiere predecir la cantidad de inventario necesario."
      ],
      "id": "pxSLPR4AH8e8"
    },
    {
      "cell_type": "markdown",
      "metadata": {
        "id": "fGoj1KxxH8e8"
      },
      "source": [
        "---"
      ],
      "id": "fGoj1KxxH8e8"
    },
    {
      "cell_type": "markdown",
      "metadata": {
        "id": "eHOtOSQiH8e9"
      },
      "source": [
        "## **Parte 2: Preprocesamiento de Datos y *Leakage***\n",
        "\n",
        "Basado en el caso que definiste en la Parte 1:\n",
        "\n",
        "1.  Lista entre 3 y 5 **transformaciones** que aplicarías a tus datos (ej. imputación de valores faltantes, codificación de variables categóricas, escalado, creación de *lags*, etc.) y **justifica por qué** cada una es necesaria.\n",
        "2.  Señala un posible riesgo de ***data leakage*** (fuga de datos) en tu plan y explica cómo lo evitarías usando un *pipeline* de preprocesamiento."
      ],
      "id": "eHOtOSQiH8e9"
    },
    {
      "cell_type": "markdown",
      "metadata": {
        "id": "6KYkmr9mH8e9"
      },
      "source": [
        "**Respuesta (escribe aquí):**\n",
        "\n",
        "**Respuesta 1:**\n",
        "1.  Imputacion de valores faltantes: Los datos de ventas históricas o tiempos de entrega pueden presentar vacíos en la información por motivo de que no se registrara venta o entrega en algún día o semana en específico. Es importante llenar estos espacios valor de 0 en cuestión de las ventas y con la media en tiempos de entrega para no afectar el modelo.\n",
        "2. Codificación de variables categóricas: Promociones (Si=1/No=0) ya que este tipo de modelos necesitan valores numéricos.\n",
        "3. Escalado de variables numéricas: estandarizando las variables ventas históricas 0-10.000 y el tiempo de entrega de 0 a 30 días ya que los algoritmos necesitan estandarizar los datos.\n",
        "4.  Creación de lags y medias móviles: definición de la demanda en los últimos 7 días y el promedio de venta semanal con esto se pueden revisar patrones de estacionalidad o tendencias pasadas que ayuden a la predicción.  \n",
        "\n",
        "**Respuesta 2:**\n",
        "1.  **Riesgo:** se puede accidentalmente incluir las ventas de mañana para realizar la prediccion hoy.\n",
        "2.  **Como evitarlo:** Un pipeline de preprocesamiento encadena transformaciones y garantiza que todas las estadísticas o parámetros necesarios, se calculen únicamente durante el fit sobre el conjunto de entrenamiento. Luego cuando se aplica el pipeline, reutiliza los parámetros aprendidos sin volver a mirar los datos futuros esto evita la fuga de datos y nos brinda estimaciones más reales del rendimiento del modelo."
      ],
      "id": "6KYkmr9mH8e9"
    },
    {
      "cell_type": "markdown",
      "metadata": {
        "id": "hbyCKrY6H8e-"
      },
      "source": [
        "---"
      ],
      "id": "hbyCKrY6H8e-"
    },
    {
      "cell_type": "markdown",
      "metadata": {
        "id": "ukCTM2EKH8e-"
      },
      "source": [
        "## **Parte 3: Interpretación y Métricas de Regresión Simple**\n",
        "\n",
        "Para esta sección, elige un caso simple de regresión (puede ser el tuyo o uno hipotético, como predecir la demanda de un producto según su precio).\n",
        "\n",
        "1.  Define claramente las variables **$Y$** y **$X$** junto con sus **unidades** (ej. $Y$: número de unidades vendidas, $X$: precio en dólares).\n",
        "2.  Supón que entrenas un modelo y obtienes una pendiente de **$\\hat{\\beta}_1 = -0.6$**. Escribe una interpretación clara y concisa de este coeficiente en el contexto de tu problema.\n",
        "3.  ¿Qué **métrica** de evaluación usarías (MAE, RMSE, o MAPE) y **por qué** es la más adecuada para tu caso?\n",
        "4.  Menciona **un supuesto** del modelo de regresión lineal que validarías (ej. linealidad, homocedasticidad) y explica **cómo** lo harías (usando un gráfico o una prueba estadística)."
      ],
      "id": "ukCTM2EKH8e-"
    },
    {
      "cell_type": "markdown",
      "metadata": {
        "id": "5KGzW8pSH8e_"
      },
      "source": [
        "**Respuesta (escribe aquí):**\n",
        "\n",
        "1. Respuesta 1\n",
        "\n",
        "     \n",
        "\n",
        "*   Variable dependiente (Y): Demanda del producto = número de unidades vendidas (unidades).\n",
        "*  Variable independiente (X): Precio del producto = precio por unidad (dolar).\n",
        "\n",
        "2.  Significa que por cada aumento de 1 dólar en el precio del producto, la demanda disminuye en promedio 0.6 unidades. El precio tiene una relación negativa con la cantidad demandada, a mayor precio, menor demanda.\n",
        "\n",
        "3.  Usaría RMSE por que entrega el error en las mismas unidades de la variable dependiente (unidades vendidas), lo que facilita la interpretación y penaliza más fuerte los errores grandes, algo útil si una predicción muy alejada del valor real puede ser costosa para la empresa.\n",
        "\n",
        "4. Respuesta 4\n",
        "\n",
        "\n",
        "*   Supuesto linealidad:la relación entre el precio (X) y la demanda (Y) debe ser aproximadamente lineal.\n",
        "*   Usando un diagrama de dispersión de Y vs. X: si los puntos muestran una tendencia recta (aunque con dispersión), el supuesto de linealidad se cumple.\n",
        "\n",
        "\n",
        "\n",
        "\n",
        "\n",
        "    "
      ],
      "id": "5KGzW8pSH8e_"
    },
    {
      "cell_type": "code",
      "metadata": {
        "colab": {
          "base_uri": "https://localhost:8080/",
          "height": 565
        },
        "id": "a975fb9c",
        "outputId": "81abe0da-8f05-45bd-dbeb-c8caef4bf541"
      },
      "source": [
        "import matplotlib.pyplot as plt\n",
        "import seaborn as sns\n",
        "import numpy as np\n",
        "\n",
        "# Sample data (replace with your actual data)\n",
        "# Assuming Y is your dependent variable (e.g., Demanda del producto)\n",
        "# Assuming X is your independent variable (e.g., Precio del producto)\n",
        "np.random.seed(42) # for reproducibility\n",
        "X = np.random.rand(100) * 10 # Sample prices\n",
        "Y = 2 * X + 1 + np.random.randn(100) * 2 # Sample demand with some noise\n",
        "\n",
        "\n",
        "# Create the scatter plot with a regression line\n",
        "plt.figure(figsize=(8, 6))\n",
        "sns.regplot(x=X, y=Y, scatter_kws={'s': 20}, line_kws={'color': 'red'}) # Use regplot for scatter plot with regression line\n",
        "plt.xlabel(\"Precio ($)\") # Replace with your X variable name and units\n",
        "plt.ylabel(\"Demanda (unidades)\") # Replace with your Y variable name and units\n",
        "plt.title(\"Diagrama de Dispersión de Demanda vs. Precio con Línea de Regresión\") # Replace with your title\n",
        "plt.grid(True)\n",
        "plt.show()"
      ],
      "id": "a975fb9c",
      "execution_count": 1,
      "outputs": [
        {
          "output_type": "display_data",
          "data": {
            "text/plain": [
              "<Figure size 800x600 with 1 Axes>"
            ],
            "image/png": "[encoded data removed]"
          },
          "metadata": {}
        }
      ]
    },
    {
      "cell_type": "markdown",
      "metadata": {
        "id": "DEOrd_fSH8e_"
      },
      "source": [
        "## **Parte 4: Regresión Múltiple y Colinealidad**\n",
        "\n",
        "Volviendo a tu caso de la Parte 1 (con múltiples variables).\n",
        "\n",
        "1.  Escribe el **vector de variables** $\\vec{X}$ y la **respuesta** $Y$.\n",
        "2.  Explica cómo interpretarías el **coeficiente** de una de tus variables clave (incluyendo unidades y el sentido de la relación: positiva o negativa).\n",
        "3.  Si sospecharas que existe **colinealidad** entre tus variables, menciona **dos acciones** que podrías tomar para mitigarla."
      ],
      "id": "DEOrd_fSH8e_"
    },
    {
      "cell_type": "markdown",
      "metadata": {
        "id": "REUWPUP_H8fA"
      },
      "source": [
        "**Respuesta (escribe aquí):**\n",
        "\n",
        "**Respuesta 1:**\n",
        "\n",
        "\n",
        "*  X1=Demanda histórica promedio (unidades/día)\n",
        "*  X2=Frecuencia de reposicioˊn del proveedor (día)\n",
        "*  X3=Tiempo de entrega del proveedor, lead time (día)\n",
        "*  X4=Existencia de promoción (0 = No, 1 = Si)\n",
        "*  Y=Nivel de inventario requerido (unidades)\n",
        "\n",
        "**Respuesta 2:**\n",
        "1.  Interpretacion:\n",
        "  *  Variable X4: Si un producto entra en promoción (X4=1), el modelo predice que el inventario requerido aumenta en 120 unidades en comparación de cuando no se tiene promoción.\n",
        "  *  La relación es positiva, porque las promociones incentivan la demanda.\n",
        "  *  Unidades: el coeficiente se interpreta como unidades adicionales de inventario asociadas al cambio de estado de la variable categórica (de 0 a 1).\n",
        "\n",
        "**Respuesta 3:** Si sospechamos que existe alta correlación entre variables como X1(demanda histórica promedio) y X2 (frecuencia de reposición):\n",
        "1.  Eliminar o combinar variables redundantes: Por ejemplo,  solo usar demanda histórica o derivar una métrica combinada como demanda promedio x frecuencia de reposición.\n",
        "2.  Aplicar regularización: Utilizar regresión Ridge o Lasso, que penalizan la magnitud de los coeficientes y reducen la inestabilidad provocada por colinealidad.\n",
        "\n",
        "\n",
        "\n",
        "\n",
        "\n",
        "\n",
        "\n",
        "\n",
        "\n",
        "\n",
        "\n",
        "\n",
        "\n",
        "\n",
        "\n"
      ],
      "id": "REUWPUP_H8fA"
    },
    {
      "cell_type": "markdown",
      "metadata": {
        "id": "Kfz2bBkzH8fA"
      },
      "source": [
        "---"
      ],
      "id": "Kfz2bBkzH8fA"
    },
    {
      "cell_type": "markdown",
      "metadata": {
        "id": "d0sQYW3DH8fA"
      },
      "source": [
        "## **Parte 5: Interacciones y Multicolinealidad (VIF)**\n",
        "\n",
        "1.  Plantea un caso con una variable $Y$ y entre 4 y 6 variables $X$. ¿Qué término de **interacción** entre dos variables podrías añadir al modelo y **por qué** crees que sería útil?\n",
        "2.  Si al calcular el Factor de Inflación de la Varianza (VIF) para una variable, obtienes un valor alto (ej. > 10), menciona **dos acciones** que podrías tomar para solucionarlo."
      ],
      "id": "d0sQYW3DH8fA"
    },
    {
      "cell_type": "markdown",
      "metadata": {
        "id": "tEgefQ1cH8fA"
      },
      "source": [
        "**Respuesta (escribe aquí):**\n",
        "\n",
        "**Respuesta 1:**\n",
        "\n",
        "\n",
        "1.1.   Planteamiento\n",
        "\n",
        "Variable independiente Y\n",
        "\n",
        "*   Y=Nivel de inventario requerido (unidades)\n",
        "\n",
        "Variables independientes x\n",
        "\n",
        "*   X1=Demanda histórica promedio (unidades/día)\n",
        "*   X2=Frecuencia de reposición del proveedor (días)\n",
        "*   X3=Tiempo de entrega del proveedor, lead time (días)\n",
        "*   X4=Existencia de promoción (0 = No, 1 = Si)\n",
        "*   X5=Variabilidad en la demanda (desviación estándar de ventas)\n",
        "\n",
        "1.2.   Termino de interaccion\n",
        "*   X1 x X4= (Demanda histórica promedio) x (Promoción)\n",
        "\n",
        "    **Utilidad:**\n",
        "    Permite evidenciar que el efecto de una promoción es mayor en productos de alta demanda que en los de baja demanda.\n",
        "    Para artículos con alta demanda histórica, una promoción puede disparar aún más las ventas y requerir un mayor nivel de inventario. Para artículos de baja demanda, la promoción puede tener un efecto más moderado.\n",
        "2. Acciones a tomar para solucionar\n",
        "\n",
        "  2.1.  Eliminar o combinar variables correlacionadas\n",
        "  *   Ejemplo: reemplazar X1 y X5 por una sola métrica de demanda ajustada por variabilidad.\n",
        "  *   Esto reduce la repetición de información y simplifica el modelo.\n",
        "\n",
        "  2.2. Aplicar regularización\n",
        "  *   Usar modelos como Ridge o Lasso que penalizan coeficientes grandes y estabilizan el modelo aun en presencia de multicolinealidad.\n",
        "  *   Esto mantiene todas las variables, pero limita el impacto de las más redundantes.\n",
        "\n",
        "\n",
        "\n",
        "\n"
      ],
      "id": "tEgefQ1cH8fA"
    },
    {
      "cell_type": "markdown",
      "metadata": {
        "id": "8XdQIyu_H8fB"
      },
      "source": [
        "---"
      ],
      "id": "8XdQIyu_H8fB"
    },
    {
      "cell_type": "markdown",
      "metadata": {
        "id": "XKsr-uPlH8fB"
      },
      "source": [
        "## **Parte 6: Variables Categóricas e Interacciones**\n",
        "\n",
        "1.  Define una **variable categórica** para tu caso (puedes inventarla si no la tenías). Elige una de sus categorías como el nivel **base** o de referencia y **justifica** tu elección.\n",
        "2.  Crea una **interacción** entre una variable numérica y la variable categórica que definiste. Explica cómo se interpretaría el coeficiente de esta interacción."
      ],
      "id": "XKsr-uPlH8fB"
    },
    {
      "cell_type": "markdown",
      "metadata": {
        "id": "7i_JBwwbH8fC"
      },
      "source": [
        "**Respuesta (escribe aquí):**\n",
        "1.  la variable Tipo de producto con las siguientes categorías:\n",
        "\n",
        "*   Frescos (frutas, verduras, carnes)\n",
        "*   Enlatados\n",
        "*   Carnicos\n",
        "*   snack\n",
        "\n",
        "    **Justificacion:** El nivel base escogido es el de Enlatados ya que su demanda tiene a ser mas estable y tiene un menor riesgo de desabastecimiento ya que cuenta con una vida util larga. Facilita comparar cómo los otros tipos de productos afectan el inventario respecto a un grupo estable y menos volátil.\n",
        "  \n",
        "2.  Interaccion\n",
        "\n",
        "    Promoción X Frescos\n",
        "\n",
        "    Si el coeficiente de la interacción Promoción × Frescos es positivo (por ejemplo, +15), significa que cuando un producto fresco está en promoción, el inventario óptimo debe aumentar en 15 unidades más que cuando la promoción es en enlatados.\n",
        "    \n",
        "    En otras palabras: las promociones en productos frescos generan más demanda que en los enlatados, por eso se necesita tener más inventario disponible.\n",
        "\n",
        "\n"
      ],
      "id": "7i_JBwwbH8fC"
    },
    {
      "cell_type": "markdown",
      "metadata": {
        "id": "DjYrQWpqH8fC"
      },
      "source": [
        "---"
      ],
      "id": "DjYrQWpqH8fC"
    },
    {
      "cell_type": "markdown",
      "metadata": {
        "id": "mG9YJpeoH8fC"
      },
      "source": [
        "## **Parte 7: Conceptos Clave de Clasificación**\n",
        "\n",
        "Aunque el taller se centra en regresión, estos conceptos son fundamentales en Machine Learning.\n",
        "\n",
        "1.  Explica qué es la **curva ROC** y para qué se utiliza en un problema de clasificación.\n",
        "2.  Define el concepto de **accuracy** (exactitud) y menciona una situación en la que podría ser una métrica engañosa.\n",
        "3.  Describe qué es una **matriz de confusión** y cómo se interpretan sus componentes (Verdaderos Positivos, Falsos Positivos, Verdaderos Negativos, Falsos Negativos)."
      ],
      "id": "mG9YJpeoH8fC"
    },
    {
      "cell_type": "markdown",
      "metadata": {
        "id": "aq-cYN3nH8fD"
      },
      "source": [
        "**Respuesta (escribe aquí):**\n",
        "1.  La curva ROC es un gráfico que representa el desempeño de un modelo de clasificación binaria a diferentes umbrales de decisión.\n",
        "\n",
        "\n",
        "*   Eje Y: Tasa de verdaderos positivos TPR o sensibilidad.\n",
        "*   Eje X: Tasa de falsos positivos FPR.\n",
        "\n",
        "    **Se utiliza:**\n",
        "\n",
        "\n",
        "*   Evaluar la capacidad del modelo para distinguir entre clases positivas y negativas.\n",
        "*   Comparar modelos: un área bajo la curva (AUC) cercana a 1 indica un buen modelo; 0.5 indica un modelo que clasifica al azar.\n",
        "\n",
        "2.  Es la proporción de predicciones correctas sobre el total de predicciones.\n",
        "\n",
        "    **Accuracy = VP + VN \\ VP + VN + FP + FN**\n",
        "\n",
        "    donde VP = Verdaderos Positivos, VN = Verdaderos Negativos, FP = Falsos Positivos, FN = Falsos Negativos.\n",
        "\n",
        "    **Situación engañosa:**\n",
        "\n",
        "    Supongamos que solo 0.5% de las transacciones son fraudulentas.\n",
        "\n",
        "    Un modelo que predice siempre “no fraude” tendrá un 99.5% de accuracy, porque la gran mayoría de transacciones no son fraudulentas.\n",
        "\n",
        "    Aunque la exactitud es altísima, el modelo no detecta ningún fraude, que es precisamente lo que interesa.\n",
        "\n",
        "3.  Es una tabla que resume el desempeño de un modelo de clasificación mostrando cómo se clasificaron realmente los datos vs. lo que predijo el modelo.\n",
        "\n"
      ],
      "id": "aq-cYN3nH8fD"
    },
    {
      "cell_type": "code",
      "source": [
        "# Crear la matriz de confusión como un DataFrame\n",
        "import pandas as pd\n",
        "\n",
        "confusion_matrix = pd.DataFrame(\n",
        "    data = [[ \"Verdaderos Positivos (VP)\", \"Falsos Negativos (FN)\"],\n",
        "            [ \"Falsos Positivos (FP)\", \"Verdaderos Negativos (VN)\"]],\n",
        "    index = [\"Real Positivo\", \"Real Negativo\"],\n",
        "    columns = [\"Predicho Positivo\", \"Predicho Negativo\"])\n",
        "\n",
        "display(confusion_matrix)"
      ],
      "metadata": {
        "colab": {
          "base_uri": "https://localhost:8080/",
          "height": 125
        },
        "id": "Oawbk5tDeFLN",
        "outputId": "3d04e47f-65fd-4125-d00b-56f1fd6ac234"
      },
      "id": "Oawbk5tDeFLN",
      "execution_count": 2,
      "outputs": [
        {
          "output_type": "display_data",
          "data": {
            "text/plain": [
              "                       Predicho Positivo          Predicho Negativo\n",
              "Real Positivo  Verdaderos Positivos (VP)      Falsos Negativos (FN)\n",
              "Real Negativo      Falsos Positivos (FP)  Verdaderos Negativos (VN)"
            ],
            "text/html": [
              "\n",
              "  <div id=\"df-25047762-1530-44a1-955a-f011d66a54b8\" class=\"colab-df-container\">\n",
              "    <div>\n",
              "<style scoped>\n",
              "    .dataframe tbody tr th:only-of-type {\n",
              "        vertical-align: middle;\n",
              "    }\n",
              "\n",
              "    .dataframe tbody tr th {\n",
              "        vertical-align: top;\n",
              "    }\n",
              "\n",
              "    .dataframe thead th {\n",
              "        text-align: right;\n",
              "    }\n",
              "</style>\n",
              "<table border=\"1\" class=\"dataframe\">\n",
              "  <thead>\n",
              "    <tr style=\"text-align: right;\">\n",
              "      <th></th>\n",
              "      <th>Predicho Positivo</th>\n",
              "      <th>Predicho Negativo</th>\n",
              "    </tr>\n",
              "  </thead>\n",
              "  <tbody>\n",
              "    <tr>\n",
              "      <th>Real Positivo</th>\n",
              "      <td>Verdaderos Positivos (VP)</td>\n",
              "      <td>Falsos Negativos (FN)</td>\n",
              "    </tr>\n",
              "    <tr>\n",
              "      <th>Real Negativo</th>\n",
              "      <td>Falsos Positivos (FP)</td>\n",
              "      <td>Verdaderos Negativos (VN)</td>\n",
              "    </tr>\n",
              "  </tbody>\n",
              "</table>\n",
              "</div>\n",
              "    <div class=\"colab-df-buttons\">\n",
              "\n",
              "  <div class=\"colab-df-container\">\n",
              "    <button class=\"colab-df-convert\" onclick=\"convertToInteractive('df-25047762-1530-44a1-955a-f011d66a54b8')\"\n",
              "            title=\"Convert this dataframe to an interactive table.\"\n",
              "            style=\"display:none;\">\n",
              "\n",
              "  <svg xmlns=\"http://www.w3.org/2000/svg\" height=\"24px\" viewBox=\"0 -960 960 960\">\n",
              "    <path d=\"M120-120v-720h720v720H120Zm60-500h600v-160H180v160Zm220 220h160v-160H400v160Zm0 220h160v-160H400v160ZM180-400h160v-160H180v160Zm440 0h160v-160H620v160ZM180-180h160v-160H180v160Zm440 0h160v-160H620v160Z\"/>\n",
              "  </svg>\n",
              "    </button>\n",
              "\n",
              "  <style>\n",
              "    .colab-df-container {\n",
              "      display:flex;\n",
              "      gap: 12px;\n",
              "    }\n",
              "\n",
              "    .colab-df-convert {\n",
              "      background-color: #E8F0FE;\n",
              "      border: none;\n",
              "      border-radius: 50%;\n",
              "      cursor: pointer;\n",
              "      display: none;\n",
              "      fill: #1967D2;\n",
              "      height: 32px;\n",
              "      padding: 0 0 0 0;\n",
              "      width: 32px;\n",
              "    }\n",
              "\n",
              "    .colab-df-convert:hover {\n",
              "      background-color: #E2EBFA;\n",
              "      box-shadow: 0px 1px 2px rgba(60, 64, 67, 0.3), 0px 1px 3px 1px rgba(60, 64, 67, 0.15);\n",
              "      fill: #174EA6;\n",
              "    }\n",
              "\n",
              "    .colab-df-buttons div {\n",
              "      margin-bottom: 4px;\n",
              "    }\n",
              "\n",
              "    [theme=dark] .colab-df-convert {\n",
              "      background-color: #3B4455;\n",
              "      fill: #D2E3FC;\n",
              "    }\n",
              "\n",
              "    [theme=dark] .colab-df-convert:hover {\n",
              "      background-color: #434B5C;\n",
              "      box-shadow: 0px 1px 3px 1px rgba(0, 0, 0, 0.15);\n",
              "      filter: drop-shadow(0px 1px 2px rgba(0, 0, 0, 0.3));\n",
              "      fill: #FFFFFF;\n",
              "    }\n",
              "  </style>\n",
              "\n",
              "    <script>\n",
              "      const buttonEl =\n",
              "        document.querySelector('#df-25047762-1530-44a1-955a-f011d66a54b8 button.colab-df-convert');\n",
              "      buttonEl.style.display =\n",
              "        google.colab.kernel.accessAllowed ? 'block' : 'none';\n",
              "\n",
              "      async function convertToInteractive(key) {\n",
              "        const element = document.querySelector('#df-25047762-1530-44a1-955a-f011d66a54b8');\n",
              "        const dataTable =\n",
              "          await google.colab.kernel.invokeFunction('convertToInteractive',\n",
              "                                                    [key], {});\n",
              "        if (!dataTable) return;\n",
              "\n",
              "        const docLinkHtml = 'Like what you see? Visit the ' +\n",
              "          '<a target=\"_blank\" href=https://colab.research.google.com/notebooks/data_table.ipynb>data table notebook</a>'\n",
              "          + ' to learn more about interactive tables.';\n",
              "        element.innerHTML = '';\n",
              "        dataTable['output_type'] = 'display_data';\n",
              "        await google.colab.output.renderOutput(dataTable, element);\n",
              "        const docLink = document.createElement('div');\n",
              "        docLink.innerHTML = docLinkHtml;\n",
              "        element.appendChild(docLink);\n",
              "      }\n",
              "    </script>\n",
              "  </div>\n",
              "\n",
              "\n",
              "    <div id=\"df-d83af4b5-8e2b-4545-86dd-7dffae962b0c\">\n",
              "      <button class=\"colab-df-quickchart\" onclick=\"quickchart('df-d83af4b5-8e2b-4545-86dd-7dffae962b0c')\"\n",
              "                title=\"Suggest charts\"\n",
              "                style=\"display:none;\">\n",
              "\n",
              "<svg xmlns=\"http://www.w3.org/2000/svg\" height=\"24px\"viewBox=\"0 0 24 24\"\n",
              "     width=\"24px\">\n",
              "    <g>\n",
              "        <path d=\"M19 3H5c-1.1 0-2 .9-2 2v14c0 1.1.9 2 2 2h14c1.1 0 2-.9 2-2V5c0-1.1-.9-2-2-2zM9 17H7v-7h2v7zm4 0h-2V7h2v10zm4 0h-2v-4h2v4z\"/>\n",
              "    </g>\n",
              "</svg>\n",
              "      </button>\n",
              "\n",
              "<style>\n",
              "  .colab-df-quickchart {\n",
              "      --bg-color: #E8F0FE;\n",
              "      --fill-color: #1967D2;\n",
              "      --hover-bg-color: #E2EBFA;\n",
              "      --hover-fill-color: #174EA6;\n",
              "      --disabled-fill-color: #AAA;\n",
              "      --disabled-bg-color: #DDD;\n",
              "  }\n",
              "\n",
              "  [theme=dark] .colab-df-quickchart {\n",
              "      --bg-color: #3B4455;\n",
              "      --fill-color: #D2E3FC;\n",
              "      --hover-bg-color: #434B5C;\n",
              "      --hover-fill-color: #FFFFFF;\n",
              "      --disabled-bg-color: #3B4455;\n",
              "      --disabled-fill-color: #666;\n",
              "  }\n",
              "\n",
              "  .colab-df-quickchart {\n",
              "    background-color: var(--bg-color);\n",
              "    border: none;\n",
              "    border-radius: 50%;\n",
              "    cursor: pointer;\n",
              "    display: none;\n",
              "    fill: var(--fill-color);\n",
              "    height: 32px;\n",
              "    padding: 0;\n",
              "    width: 32px;\n",
              "  }\n",
              "\n",
              "  .colab-df-quickchart:hover {\n",
              "    background-color: var(--hover-bg-color);\n",
              "    box-shadow: 0 1px 2px rgba(60, 64, 67, 0.3), 0 1px 3px 1px rgba(60, 64, 67, 0.15);\n",
              "    fill: var(--button-hover-fill-color);\n",
              "  }\n",
              "\n",
              "  .colab-df-quickchart-complete:disabled,\n",
              "  .colab-df-quickchart-complete:disabled:hover {\n",
              "    background-color: var(--disabled-bg-color);\n",
              "    fill: var(--disabled-fill-color);\n",
              "    box-shadow: none;\n",
              "  }\n",
              "\n",
              "  .colab-df-spinner {\n",
              "    border: 2px solid var(--fill-color);\n",
              "    border-color: transparent;\n",
              "    border-bottom-color: var(--fill-color);\n",
              "    animation:\n",
              "      spin 1s steps(1) infinite;\n",
              "  }\n",
              "\n",
              "  @keyframes spin {\n",
              "    0% {\n",
              "      border-color: transparent;\n",
              "      border-bottom-color: var(--fill-color);\n",
              "      border-left-color: var(--fill-color);\n",
              "    }\n",
              "    20% {\n",
              "      border-color: transparent;\n",
              "      border-left-color: var(--fill-color);\n",
              "      border-top-color: var(--fill-color);\n",
              "    }\n",
              "    30% {\n",
              "      border-color: transparent;\n",
              "      border-left-color: var(--fill-color);\n",
              "      border-top-color: var(--fill-color);\n",
              "      border-right-color: var(--fill-color);\n",
              "    }\n",
              "    40% {\n",
              "      border-color: transparent;\n",
              "      border-right-color: var(--fill-color);\n",
              "      border-top-color: var(--fill-color);\n",
              "    }\n",
              "    60% {\n",
              "      border-color: transparent;\n",
              "      border-right-color: var(--fill-color);\n",
              "    }\n",
              "    80% {\n",
              "      border-color: transparent;\n",
              "      border-right-color: var(--fill-color);\n",
              "      border-bottom-color: var(--fill-color);\n",
              "    }\n",
              "    90% {\n",
              "      border-color: transparent;\n",
              "      border-bottom-color: var(--fill-color);\n",
              "    }\n",
              "  }\n",
              "</style>\n",
              "\n",
              "      <script>\n",
              "        async function quickchart(key) {\n",
              "          const quickchartButtonEl =\n",
              "            document.querySelector('#' + key + ' button');\n",
              "          quickchartButtonEl.disabled = true;  // To prevent multiple clicks.\n",
              "          quickchartButtonEl.classList.add('colab-df-spinner');\n",
              "          try {\n",
              "            const charts = await google.colab.kernel.invokeFunction(\n",
              "                'suggestCharts', [key], {});\n",
              "          } catch (error) {\n",
              "            console.error('Error during call to suggestCharts:', error);\n",
              "          }\n",
              "          quickchartButtonEl.classList.remove('colab-df-spinner');\n",
              "          quickchartButtonEl.classList.add('colab-df-quickchart-complete');\n",
              "        }\n",
              "        (() => {\n",
              "          let quickchartButtonEl =\n",
              "            document.querySelector('#df-d83af4b5-8e2b-4545-86dd-7dffae962b0c button');\n",
              "          quickchartButtonEl.style.display =\n",
              "            google.colab.kernel.accessAllowed ? 'block' : 'none';\n",
              "        })();\n",
              "      </script>\n",
              "    </div>\n",
              "\n",
              "  <div id=\"id_1f55165d-4b6b-4b21-96d3-ba06c462bbb3\">\n",
              "    <style>\n",
              "      .colab-df-generate {\n",
              "        background-color: #E8F0FE;\n",
              "        border: none;\n",
              "        border-radius: 50%;\n",
              "        cursor: pointer;\n",
              "        display: none;\n",
              "        fill: #1967D2;\n",
              "        height: 32px;\n",
              "        padding: 0 0 0 0;\n",
              "        width: 32px;\n",
              "      }\n",
              "\n",
              "      .colab-df-generate:hover {\n",
              "        background-color: #E2EBFA;\n",
              "        box-shadow: 0px 1px 2px rgba(60, 64, 67, 0.3), 0px 1px 3px 1px rgba(60, 64, 67, 0.15);\n",
              "        fill: #174EA6;\n",
              "      }\n",
              "\n",
              "      [theme=dark] .colab-df-generate {\n",
              "        background-color: #3B4455;\n",
              "        fill: #D2E3FC;\n",
              "      }\n",
              "\n",
              "      [theme=dark] .colab-df-generate:hover {\n",
              "        background-color: #434B5C;\n",
              "        box-shadow: 0px 1px 3px 1px rgba(0, 0, 0, 0.15);\n",
              "        filter: drop-shadow(0px 1px 2px rgba(0, 0, 0, 0.3));\n",
              "        fill: #FFFFFF;\n",
              "      }\n",
              "    </style>\n",
              "    <button class=\"colab-df-generate\" onclick=\"generateWithVariable('confusion_matrix')\"\n",
              "            title=\"Generate code using this dataframe.\"\n",
              "            style=\"display:none;\">\n",
              "\n",
              "  <svg xmlns=\"http://www.w3.org/2000/svg\" height=\"24px\"viewBox=\"0 0 24 24\"\n",
              "       width=\"24px\">\n",
              "    <path d=\"M7,19H8.4L18.45,9,17,7.55,7,17.6ZM5,21V16.75L18.45,3.32a2,2,0,0,1,2.83,0l1.4,1.43a1.91,1.91,0,0,1,.58,1.4,1.91,1.91,0,0,1-.58,1.4L9.25,21ZM18.45,9,17,7.55Zm-12,3A5.31,5.31,0,0,0,4.9,8.1,5.31,5.31,0,0,0,1,6.5,5.31,5.31,0,0,0,4.9,4.9,5.31,5.31,0,0,0,6.5,1,5.31,5.31,0,0,0,8.1,4.9,5.31,5.31,0,0,0,12,6.5,5.46,5.46,0,0,0,6.5,12Z\"/>\n",
              "  </svg>\n",
              "    </button>\n",
              "    <script>\n",
              "      (() => {\n",
              "      const buttonEl =\n",
              "        document.querySelector('#id_1f55165d-4b6b-4b21-96d3-ba06c462bbb3 button.colab-df-generate');\n",
              "      buttonEl.style.display =\n",
              "        google.colab.kernel.accessAllowed ? 'block' : 'none';\n",
              "\n",
              "      buttonEl.onclick = () => {\n",
              "        google.colab.notebook.generateWithVariable('confusion_matrix');\n",
              "      }\n",
              "      })();\n",
              "    </script>\n",
              "  </div>\n",
              "\n",
              "    </div>\n",
              "  </div>\n"
            ],
            "application/vnd.google.colaboratory.intrinsic+json": {
              "type": "dataframe",
              "variable_name": "confusion_matrix",
              "summary": "{\n  \"name\": \"confusion_matrix\",\n  \"rows\": 2,\n  \"fields\": [\n    {\n      \"column\": \"Predicho Positivo\",\n      \"properties\": {\n        \"dtype\": \"string\",\n        \"num_unique_values\": 2,\n        \"samples\": [\n          \"Falsos Positivos (FP)\",\n          \"Verdaderos Positivos (VP)\"\n        ],\n        \"semantic_type\": \"\",\n        \"description\": \"\"\n      }\n    },\n    {\n      \"column\": \"Predicho Negativo\",\n      \"properties\": {\n        \"dtype\": \"string\",\n        \"num_unique_values\": 2,\n        \"samples\": [\n          \"Verdaderos Negativos (VN)\",\n          \"Falsos Negativos (FN)\"\n        ],\n        \"semantic_type\": \"\",\n        \"description\": \"\"\n      }\n    }\n  ]\n}"
            }
          },
          "metadata": {}
        }
      ]
    },
    {
      "cell_type": "markdown",
      "source": [
        "  **Interpretación de la tabla anterior:**\n",
        "\n",
        "*   VP: Correctamente identificados como positivos.\n",
        "*   FN: Positivos reales que el modelo no detectó.\n",
        "*   FP: Negativos reales que el modelo clasificó como positivos.\n",
        "*   VN: Correctamente identificados como negativos.\n",
        "\n",
        "  "
      ],
      "metadata": {
        "id": "rg7p-R6merxF"
      },
      "id": "rg7p-R6merxF"
    }
  ],
  "metadata": {
    "kernelspec": {
      "display_name": "Python 3",
      "language": "python",
      "name": "python3"
    },
    "language_info": {
      "name": "python",
      "version": "3.x"
    },
    "colab": {
      "provenance": [],
      "include_colab_link": true
    }
  },
  "nbformat": 4,
  "nbformat_minor": 5
}